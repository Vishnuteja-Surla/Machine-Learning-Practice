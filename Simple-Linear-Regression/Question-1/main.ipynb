{
 "cells": [
  {
   "cell_type": "markdown",
   "source": [
    "## Importing Libraries"
   ],
   "metadata": {
    "collapsed": false
   }
  },
  {
   "cell_type": "code",
   "execution_count": 1,
   "outputs": [],
   "source": [
    "import numpy as np\n",
    "import pandas as pd\n",
    "import matplotlib.pyplot as plt"
   ],
   "metadata": {
    "collapsed": false
   }
  },
  {
   "cell_type": "markdown",
   "source": [
    "## Pre-Processing"
   ],
   "metadata": {
    "collapsed": false
   }
  },
  {
   "cell_type": "markdown",
   "source": [
    "Importing Dataset"
   ],
   "metadata": {
    "collapsed": false
   }
  },
  {
   "cell_type": "code",
   "execution_count": 3,
   "outputs": [
    {
     "data": {
      "text/plain": "    Hours  Scores\n0     2.5      21\n1     5.1      47\n2     3.2      27\n3     8.5      75\n4     3.5      30\n..    ...     ...\n91    5.8      60\n92    4.4      44\n93    6.1      63\n94    3.7      37\n95    8.0      84\n\n[96 rows x 2 columns]",
      "text/html": "<div>\n<style scoped>\n    .dataframe tbody tr th:only-of-type {\n        vertical-align: middle;\n    }\n\n    .dataframe tbody tr th {\n        vertical-align: top;\n    }\n\n    .dataframe thead th {\n        text-align: right;\n    }\n</style>\n<table border=\"1\" class=\"dataframe\">\n  <thead>\n    <tr style=\"text-align: right;\">\n      <th></th>\n      <th>Hours</th>\n      <th>Scores</th>\n    </tr>\n  </thead>\n  <tbody>\n    <tr>\n      <th>0</th>\n      <td>2.5</td>\n      <td>21</td>\n    </tr>\n    <tr>\n      <th>1</th>\n      <td>5.1</td>\n      <td>47</td>\n    </tr>\n    <tr>\n      <th>2</th>\n      <td>3.2</td>\n      <td>27</td>\n    </tr>\n    <tr>\n      <th>3</th>\n      <td>8.5</td>\n      <td>75</td>\n    </tr>\n    <tr>\n      <th>4</th>\n      <td>3.5</td>\n      <td>30</td>\n    </tr>\n    <tr>\n      <th>...</th>\n      <td>...</td>\n      <td>...</td>\n    </tr>\n    <tr>\n      <th>91</th>\n      <td>5.8</td>\n      <td>60</td>\n    </tr>\n    <tr>\n      <th>92</th>\n      <td>4.4</td>\n      <td>44</td>\n    </tr>\n    <tr>\n      <th>93</th>\n      <td>6.1</td>\n      <td>63</td>\n    </tr>\n    <tr>\n      <th>94</th>\n      <td>3.7</td>\n      <td>37</td>\n    </tr>\n    <tr>\n      <th>95</th>\n      <td>8.0</td>\n      <td>84</td>\n    </tr>\n  </tbody>\n</table>\n<p>96 rows × 2 columns</p>\n</div>"
     },
     "execution_count": 3,
     "metadata": {},
     "output_type": "execute_result"
    }
   ],
   "source": [
    "dataset = pd.read_csv(\"score_updated.csv\")\n",
    "dataset"
   ],
   "metadata": {
    "collapsed": false
   }
  },
  {
   "cell_type": "code",
   "execution_count": 4,
   "outputs": [],
   "source": [
    "X = dataset.iloc[:, :-1].values\n",
    "y = dataset.iloc[:, -1].values"
   ],
   "metadata": {
    "collapsed": false
   }
  },
  {
   "cell_type": "code",
   "execution_count": 12,
   "outputs": [
    {
     "name": "stdout",
     "output_type": "stream",
     "text": [
      "[[2.5]\n",
      " [5.1]\n",
      " [3.2]\n",
      " [8.5]\n",
      " [3.5]\n",
      " [1.5]\n",
      " [9.2]\n",
      " [5.5]\n",
      " [8.3]\n",
      " [2.7]\n",
      " [7.7]\n",
      " [5.9]\n",
      " [4.5]\n",
      " [3.3]\n",
      " [1.1]\n",
      " [8.9]\n",
      " [2.5]\n",
      " [1.9]\n",
      " [6.1]\n",
      " [7.4]\n",
      " [2.7]\n",
      " [4.8]\n",
      " [3.8]\n",
      " [6.9]\n",
      " [7.8]\n",
      " [4.2]\n",
      " [9.5]\n",
      " [5.8]\n",
      " [2.3]\n",
      " [4.7]\n",
      " [1.6]\n",
      " [9. ]\n",
      " [6.2]\n",
      " [8.1]\n",
      " [3.9]\n",
      " [2.2]\n",
      " [7.1]\n",
      " [6.3]\n",
      " [5.3]\n",
      " [4.4]\n",
      " [1.8]\n",
      " [9.4]\n",
      " [6.7]\n",
      " [3.7]\n",
      " [7.3]\n",
      " [4.1]\n",
      " [8. ]\n",
      " [3.1]\n",
      " [1.3]\n",
      " [5.7]\n",
      " [2.8]\n",
      " [7.9]\n",
      " [6.6]\n",
      " [3.6]\n",
      " [2.4]\n",
      " [4.6]\n",
      " [8.4]\n",
      " [1.7]\n",
      " [5.2]\n",
      " [6.4]\n",
      " [7.6]\n",
      " [9.3]\n",
      " [3.4]\n",
      " [2.1]\n",
      " [5.4]\n",
      " [8.2]\n",
      " [1.4]\n",
      " [9.6]\n",
      " [6.8]\n",
      " [7.5]\n",
      " [4.3]\n",
      " [6.5]\n",
      " [8.7]\n",
      " [3. ]\n",
      " [2.9]\n",
      " [1.2]\n",
      " [9.7]\n",
      " [4.9]\n",
      " [5.6]\n",
      " [8.6]\n",
      " [2.6]\n",
      " [7.2]\n",
      " [1. ]\n",
      " [6. ]\n",
      " [4. ]\n",
      " [5. ]\n",
      " [6.8]\n",
      " [2. ]\n",
      " [3. ]\n",
      " [7. ]\n",
      " [9.8]\n",
      " [5.8]\n",
      " [4.4]\n",
      " [6.1]\n",
      " [3.7]\n",
      " [8. ]]\n"
     ]
    }
   ],
   "source": [
    "print(X)"
   ],
   "metadata": {
    "collapsed": false
   }
  },
  {
   "cell_type": "code",
   "execution_count": 13,
   "outputs": [
    {
     "name": "stdout",
     "output_type": "stream",
     "text": [
      "[21 47 27 75 30 20 88 60 81 25 85 62 41 42 17 95 30 24 67 69 30 54 35 76\n",
      " 86 49 90 63 23 50 19 92 68 82 38 22 73 66 56 45 21 93 71 37 77 44 79 28\n",
      " 16 59 29 80 72 36 26 48 84 18 53 64 78 94 33 20 55 83 15 98 74 70 43 65\n",
      " 87 27 31 14 96 51 57 89 32 72 12 61 40 52 67 18 34 73 99 60 44 63 37 84]\n"
     ]
    }
   ],
   "source": [
    "print(y)"
   ],
   "metadata": {
    "collapsed": false
   }
  },
  {
   "cell_type": "markdown",
   "source": [
    "Splitting the dataset"
   ],
   "metadata": {
    "collapsed": false
   }
  },
  {
   "cell_type": "code",
   "execution_count": 9,
   "outputs": [],
   "source": [
    "from sklearn.model_selection import train_test_split\n",
    "X_train, X_test, y_train, y_test = train_test_split(X, y, test_size=0.2)"
   ],
   "metadata": {
    "collapsed": false
   }
  },
  {
   "cell_type": "code",
   "execution_count": 14,
   "outputs": [
    {
     "name": "stdout",
     "output_type": "stream",
     "text": [
      "[[2.5]\n",
      " [5.2]\n",
      " [1.2]\n",
      " [9.3]\n",
      " [7.4]\n",
      " [5.7]\n",
      " [6.1]\n",
      " [6.8]\n",
      " [8. ]\n",
      " [1.9]\n",
      " [8.9]\n",
      " [8.1]\n",
      " [2.6]\n",
      " [6.6]\n",
      " [5.8]\n",
      " [5.8]\n",
      " [2.4]\n",
      " [6.7]\n",
      " [2.9]\n",
      " [4.4]\n",
      " [3.7]\n",
      " [2.1]\n",
      " [2.7]\n",
      " [6.5]\n",
      " [3.1]\n",
      " [3.6]\n",
      " [2. ]\n",
      " [3.4]\n",
      " [4.8]\n",
      " [6.4]\n",
      " [2.8]\n",
      " [1.4]\n",
      " [2.7]\n",
      " [1.8]\n",
      " [9.8]\n",
      " [9.5]\n",
      " [9.2]\n",
      " [5.3]\n",
      " [4.5]\n",
      " [8.3]\n",
      " [4.4]\n",
      " [3. ]\n",
      " [7.1]\n",
      " [2.5]\n",
      " [5.5]\n",
      " [3.9]\n",
      " [4.3]\n",
      " [4.6]\n",
      " [3.5]\n",
      " [1.3]\n",
      " [9.4]\n",
      " [9. ]\n",
      " [3.2]\n",
      " [9.7]\n",
      " [1. ]\n",
      " [3.8]\n",
      " [8.5]\n",
      " [6.9]\n",
      " [1.5]\n",
      " [7.2]\n",
      " [6. ]\n",
      " [4. ]\n",
      " [5. ]\n",
      " [7. ]\n",
      " [1.7]\n",
      " [7.5]\n",
      " [4.1]\n",
      " [7.9]\n",
      " [7.7]\n",
      " [8.6]\n",
      " [2.2]\n",
      " [5.6]\n",
      " [2.3]\n",
      " [6.1]\n",
      " [9.6]\n",
      " [8. ]]\n"
     ]
    }
   ],
   "source": [
    "print(X_train)"
   ],
   "metadata": {
    "collapsed": false
   }
  },
  {
   "cell_type": "code",
   "execution_count": 15,
   "outputs": [
    {
     "name": "stdout",
     "output_type": "stream",
     "text": [
      "[30 53 14 94 69 59 63 67 79 24 95 82 32 72 63 60 26 71 31 45 37 20 30 65\n",
      " 28 36 18 33 54 64 29 15 25 21 99 90 88 56 41 81 44 27 73 21 60 38 43 48\n",
      " 30 16 93 92 27 96 12 35 75 76 20 72 61 40 52 73 18 70 44 80 85 89 22 57\n",
      " 23 67 98 84]\n"
     ]
    }
   ],
   "source": [
    "print(y_train)"
   ],
   "metadata": {
    "collapsed": false
   }
  },
  {
   "cell_type": "markdown",
   "source": [
    "## Training the Model"
   ],
   "metadata": {
    "collapsed": false
   }
  },
  {
   "cell_type": "code",
   "execution_count": 16,
   "outputs": [
    {
     "data": {
      "text/plain": "LinearRegression()"
     },
     "execution_count": 16,
     "metadata": {},
     "output_type": "execute_result"
    }
   ],
   "source": [
    "from sklearn.linear_model import LinearRegression\n",
    "regressor = LinearRegression()\n",
    "regressor.fit(X_train, y_train)"
   ],
   "metadata": {
    "collapsed": false
   }
  },
  {
   "cell_type": "markdown",
   "source": [
    "## Testing the model"
   ],
   "metadata": {
    "collapsed": false
   }
  },
  {
   "cell_type": "code",
   "execution_count": 17,
   "outputs": [],
   "source": [
    "y_pred = regressor.predict(X_test)"
   ],
   "metadata": {
    "collapsed": false
   }
  },
  {
   "cell_type": "code",
   "execution_count": 18,
   "outputs": [
    {
     "name": "stdout",
     "output_type": "stream",
     "text": [
      "[73.69407776 54.84018681 84.60948831 51.86325666 68.73252751 17.1324049\n",
      " 62.77866721 82.62486821 87.58641847 49.87863656 42.93246621 31.0247456\n",
      " 47.89401646 59.80173706 12.17085465 63.77097726 37.97091596 78.65562801\n",
      " 34.00167575 76.67100791]\n"
     ]
    }
   ],
   "source": [
    "print(y_pred)"
   ],
   "metadata": {
    "collapsed": false
   }
  },
  {
   "cell_type": "code",
   "execution_count": 19,
   "outputs": [
    {
     "name": "stdout",
     "output_type": "stream",
     "text": [
      "[77 55 84 47 74 19 68 83 87 51 49 34 50 62 17 66 37 86 42 78]\n"
     ]
    }
   ],
   "source": [
    "print(y_test)"
   ],
   "metadata": {
    "collapsed": false
   }
  },
  {
   "cell_type": "markdown",
   "source": [
    "Performance Metrics"
   ],
   "metadata": {
    "collapsed": false
   }
  },
  {
   "cell_type": "code",
   "execution_count": 20,
   "outputs": [
    {
     "name": "stdout",
     "output_type": "stream",
     "text": [
      "The R2 Score for this model is 0.9664736585430012\n"
     ]
    }
   ],
   "source": [
    "from sklearn.metrics import r2_score\n",
    "r2 = r2_score(y_test, y_pred)\n",
    "print(f\"The R2 Score for this model is {r2}\")"
   ],
   "metadata": {
    "collapsed": false
   }
  },
  {
   "cell_type": "markdown",
   "source": [
    "## Visualisation"
   ],
   "metadata": {
    "collapsed": false
   }
  },
  {
   "cell_type": "markdown",
   "source": [
    "Visualisation of Training Data"
   ],
   "metadata": {
    "collapsed": false
   }
  },
  {
   "cell_type": "code",
   "execution_count": 21,
   "outputs": [
    {
     "data": {
      "text/plain": "<Figure size 640x480 with 1 Axes>",
      "image/png": "[encoded data removed]"
     },
     "metadata": {},
     "output_type": "display_data"
    }
   ],
   "source": [
    "plt.scatter(X_train, y_train, color='red')\n",
    "plt.title(\"Study Hours vs Marks Obtained\")\n",
    "plt.xlabel(\"Hours Studied\")\n",
    "plt.ylabel(\"Marks Obtained\")\n",
    "plt.show()"
   ],
   "metadata": {
    "collapsed": false
   }
  },
  {
   "cell_type": "markdown",
   "source": [
    "Model Plot from Training set"
   ],
   "metadata": {
    "collapsed": false
   }
  },
  {
   "cell_type": "code",
   "execution_count": 23,
   "outputs": [
    {
     "data": {
      "text/plain": "<Figure size 640x480 with 1 Axes>",
      "image/png": "[encoded data removed]"
     },
     "metadata": {},
     "output_type": "display_data"
    }
   ],
   "source": [
    "plt.scatter(X_train, y_train, color='red')\n",
    "plt.plot(X_train, regressor.predict(X_train), color='blue')\n",
    "plt.title(\"Study Hours vs Marks Obtained\")\n",
    "plt.xlabel(\"Hours Studied\")\n",
    "plt.ylabel(\"Marks Obtained\")\n",
    "plt.show()"
   ],
   "metadata": {
    "collapsed": false
   }
  },
  {
   "cell_type": "markdown",
   "source": [
    "Model Application for Test Set"
   ],
   "metadata": {
    "collapsed": false
   }
  },
  {
   "cell_type": "code",
   "execution_count": 24,
   "outputs": [
    {
     "data": {
      "text/plain": "<Figure size 640x480 with 1 Axes>",
      "image/png": "[encoded data removed]"
     },
     "metadata": {},
     "output_type": "display_data"
    }
   ],
   "source": [
    "plt.scatter(X_test, y_test, color='red')\n",
    "plt.plot(X_test, regressor.predict(X_test), color='blue')\n",
    "plt.title(\"Study Hours vs Marks Obtained\")\n",
    "plt.xlabel(\"Hours Studied\")\n",
    "plt.ylabel(\"Marks Obtained\")\n",
    "plt.show()"
   ],
   "metadata": {
    "collapsed": false
   }
  },
  {
   "cell_type": "code",
   "execution_count": null,
   "outputs": [],
   "source": [],
   "metadata": {
    "collapsed": false
   }
  }
 ],
 "metadata": {
  "kernelspec": {
   "display_name": "Python 3",
   "language": "python",
   "name": "python3"
  },
  "language_info": {
   "codemirror_mode": {
    "name": "ipython",
    "version": 2
   },
   "file_extension": ".py",
   "mimetype": "text/x-python",
   "name": "python",
   "nbconvert_exporter": "python",
   "pygments_lexer": "ipython2",
   "version": "2.7.6"
  }
 },
 "nbformat": 4,
 "nbformat_minor": 0
}
